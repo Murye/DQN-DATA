{
 "cells": [
  {
   "cell_type": "markdown",
   "id": "2986974c-ef4c-46c8-aa61-b5b1206b4f3f",
   "metadata": {},
   "source": [
    "# Section 3.3, generating synthetic traffic data for Q-learning training\n",
    "The simulation models academic calendar phases, class-specific traffic patterns, and infrastructure constraints."
   ]
  },
  {
   "cell_type": "code",
   "execution_count": 1,
   "id": "b2a4ad8d-5eca-4210-9be1-4dd21aa01369",
   "metadata": {},
   "outputs": [],
   "source": [
    "import simpy\n",
    "import numpy as np\n",
    "import pandas as pd\n",
    "from scipy.stats import weibull_min, gamma, poisson, powerlaw, lognorm\n",
    "import datetime"
   ]
  },
  {
   "cell_type": "markdown",
   "id": "dfd7180e-37be-4fd4-8b14-8ecbbdbbf8db",
   "metadata": {},
   "source": [
    "### Configuration Parameters"
   ]
  },
  {
   "cell_type": "code",
   "execution_count": 3,
   "id": "31c6a39b-a23e-43e0-b568-5825a79fe2cf",
   "metadata": {},
   "outputs": [],
   "source": [
    "SIMULATION_DAYS = 90  # One academic season (e.g., 12-week lecture period)\n",
    "SIMULATION_RESOLUTION = 5  # Minutes between measurements\n",
    "CLASSES = ['Teaching', 'Non-teaching', 'Managerial', 'Non-managerial']\n",
    "CAPACITY_PROFILE = {  # Mbps (RENU infrastructure upgrades)\n",
    "    '2023': 80,\n",
    "    '2025': 500\n",
    "}"
   ]
  },
  {
   "cell_type": "markdown",
   "id": "6d474169-c9b5-4a79-9e76-754935c2494d",
   "metadata": {},
   "source": [
    "### Determine academic phase based on simulated date"
   ]
  },
  {
   "cell_type": "code",
   "execution_count": 4,
   "id": "a7f6e493-2e42-4def-b227-6dd7802f3a0f",
   "metadata": {},
   "outputs": [],
   "source": [
    "def academic_phase_detector(t):\n",
    "    \"\"\"Determine academic phase based on simulated date\"\"\"\n",
    "    exam_peaks = [  # Simulated exam periods (Mondays)\n",
    "        datetime.date(2024, 3, 15), datetime.date(2024, 6, 10)\n",
    "    ]\n",
    "    admin_peaks = [  # Simulated administrative cycles\n",
    "        datetime.date(2024, 1, 20), datetime.date(2024, 4, 5)\n",
    "    ]\n",
    "    \n",
    "    current_date = datetime.date(2024, 1, 1) + datetime.timedelta(days=t)\n",
    "    \n",
    "    # Exam proximity calculation\n",
    "    exam_dist = min(abs((current_date - peak).days) for peak in exam_peaks)\n",
    "    if exam_dist <= 14:  # 2-week exam period\n",
    "        phase = 'Examination'\n",
    "        phase_intensity = max(0.6, 1.0 - (exam_dist / 14))\n",
    "    elif any(abs((current_date - peak).days) <= 7 for peak in admin_peaks):\n",
    "        phase = 'Administrative'\n",
    "        phase_intensity = 1.0\n",
    "    else:\n",
    "        phase = 'Lecture'\n",
    "        phase_intensity = 1.0\n",
    "    \n",
    "    return phase, phase_intensity"
   ]
  },
  {
   "cell_type": "markdown",
   "id": "c5a6525b-e4bd-45aa-a912-fb4e65557e3a",
   "metadata": {},
   "source": [
    "### Generate traffic for a specific class based on academic phase"
   ]
  },
  {
   "cell_type": "code",
   "execution_count": 5,
   "id": "8789895a-bea5-4832-a6a0-8ddadbe909a2",
   "metadata": {},
   "outputs": [],
   "source": [
    "def generate_traffic(class_name, phase, intensity, t):\n",
    "    \"\"\"Generate traffic for a specific class based on academic phase\"\"\"\n",
    "    # Base traffic parameters (requests per minute)\n",
    "    base_params = {\n",
    "        'Lecture': {\n",
    "            'Teaching': 25, 'Non-teaching': 18,\n",
    "            'Managerial': 8, 'Non-managerial': 15\n",
    "        },\n",
    "        'Examination': {\n",
    "            'Teaching': 40, 'Non-teaching': 25,\n",
    "            'Managerial': 10, 'Non-managerial': 20\n",
    "        },\n",
    "        'Administrative': {\n",
    "            'Teaching': 20, 'Non-teaching': 15,\n",
    "            'Managerial': 30, 'Non-managerial': 18\n",
    "        }\n",
    "    }\n",
    "    \n",
    "    # Apply phase intensity\n",
    "    base_rate = base_params[phase][class_name] * intensity\n",
    "    \n",
    "    # Diurnal pattern (peak during 10AM-4PM)\n",
    "    hour = (t % 1440) / 60\n",
    "    diurnal_factor = 0.6 + 0.4 * np.cos((hour - 13) * np.pi / 6)\n",
    "    \n",
    "    # Generate request count\n",
    "    if phase == 'Lecture':\n",
    "        requests = weibull_min.rvs(1.2, scale=base_rate * diurnal_factor)\n",
    "    elif phase == 'Examination':\n",
    "        requests = gamma.rvs(2.0, scale=base_rate * diurnal_factor * 0.8)\n",
    "    else:  # Administrative\n",
    "        requests = poisson.rvs(base_rate * diurnal_factor)\n",
    "    \n",
    "    # Generate traffic volume (MB)\n",
    "    if class_name == 'Teaching':\n",
    "        volume = powerlaw.rvs(2.3, scale=120) * max(1, requests)\n",
    "    elif class_name == 'Non-teaching':\n",
    "        volume = np.random.lognormal(5.0, 0.5) * requests\n",
    "    elif class_name == 'Managerial':\n",
    "        volume = np.random.uniform(5, 20) * requests\n",
    "    else:  # Non-managerial\n",
    "        volume = lognorm.rvs(0.7, scale=np.exp(5.2)) * requests\n",
    "    \n",
    "    return max(0, int(requests)), max(0, volume)"
   ]
  },
  {
   "cell_type": "markdown",
   "id": "17e44b97-082a-44d9-8c45-083e7a081809",
   "metadata": {},
   "source": [
    "### Calculate policy-driven weight based on academic calendar"
   ]
  },
  {
   "cell_type": "code",
   "execution_count": 6,
   "id": "fa9c299c-979f-4f97-bdc5-c4e15c4e15a9",
   "metadata": {},
   "outputs": [],
   "source": [
    "def policy_weight_calculator(class_name, t):\n",
    "    \"\"\"Calculate policy-driven weight based on academic calendar\"\"\"\n",
    "    # Base weights from Delphi panel (Section 3.2)\n",
    "    base_weights = {\n",
    "        'Teaching': 0.28,\n",
    "        'Non-teaching': 0.12,\n",
    "        'Managerial': 0.35,\n",
    "        'Non-managerial': 0.25\n",
    "    }\n",
    "    \n",
    "    # Exam proximity effect (only affects Teaching)\n",
    "    phase, intensity = academic_phase_detector(t)\n",
    "    if class_name == 'Teaching' and phase == 'Examination':\n",
    "        exam_boost = 0.3 * intensity\n",
    "        return min(0.58, base_weights['Teaching'] + exam_boost)\n",
    "    \n",
    "    return base_weights[class_name]"
   ]
  },
  {
   "cell_type": "markdown",
   "id": "527bc54c-8b72-413c-82a6-80c77a05698f",
   "metadata": {},
   "source": [
    "### Main simulation function using SimPy"
   ]
  },
  {
   "cell_type": "code",
   "execution_count": 7,
   "id": "1708b5e3-efec-4e5f-8e0a-609d818ce0b1",
   "metadata": {},
   "outputs": [],
   "source": [
    "def simulate_network_traffic():\n",
    "    \"\"\"Main simulation function using SimPy\"\"\"\n",
    "    env = simpy.Environment()\n",
    "    total_intervals = SIMULATION_DAYS * 24 * (60 // SIMULATION_RESOLUTION)\n",
    "    results = []\n",
    "    \n",
    "    def traffic_monitor(env):\n",
    "        \"\"\"Monitor network state at regular intervals\"\"\"\n",
    "        nonlocal results\n",
    "        for t in range(total_intervals):\n",
    "            # Convert interval to simulation days\n",
    "            sim_day = t / (24 * (60 // SIMULATION_RESOLUTION))\n",
    "            \n",
    "            # Determine academic phase\n",
    "            phase, intensity = academic_phase_detector(sim_day)\n",
    "            \n",
    "            # Get current capacity\n",
    "            capacity = CAPACITY_PROFILE['2025'] if sim_day > 365 else CAPACITY_PROFILE['2023']\n",
    "            \n",
    "            # Initialize state vector\n",
    "            state_vector = {\n",
    "                'timestamp': t * SIMULATION_RESOLUTION,\n",
    "                'phase': phase,\n",
    "                'capacity': capacity,\n",
    "                'total_requests': 0,\n",
    "                'total_volume': 0\n",
    "            }\n",
    "            \n",
    "            # Generate traffic for each class\n",
    "            class_metrics = {}\n",
    "            for class_name in CLASSES:\n",
    "                requests, volume = generate_traffic(class_name, phase, intensity, t)\n",
    "                weight = policy_weight_calculator(class_name, sim_day)\n",
    "                \n",
    "                state_vector.update({\n",
    "                    f'{class_name}_requests': requests,\n",
    "                    f'{class_name}_volume': volume,\n",
    "                    f'{class_name}_weight': weight\n",
    "                })\n",
    "                \n",
    "                # Track totals\n",
    "                state_vector['total_requests'] += requests\n",
    "                state_vector['total_volume'] += volume\n",
    "                class_metrics[class_name] = (requests, volume, weight)\n",
    "            \n",
    "            # Calculate bandwidth utilization\n",
    "            utilized_bw = min(capacity, state_vector['total_volume'] * 8 / (SIMULATION_RESOLUTION * 60))\n",
    "            state_vector['utilization'] = utilized_bw / capacity\n",
    "            \n",
    "            # Store results\n",
    "            results.append(state_vector)\n",
    "            yield env.timeout(SIMULATION_RESOLUTION)\n",
    "    \n",
    "    env.process(traffic_monitor(env))\n",
    "    env.run(until=total_intervals * SIMULATION_RESOLUTION)\n",
    "    \n",
    "    # Convert to DataFrame and save\n",
    "    df = pd.DataFrame(results)\n",
    "    df.to_csv('network_traffic_simulation.csv', index=False)\n",
    "    print(f\"Simulation complete. {len(df)} records saved to CSV.\")\n",
    "    \n",
    "    return df"
   ]
  },
  {
   "cell_type": "code",
   "execution_count": 8,
   "id": "514cf739-81eb-4c65-a040-51affb93156d",
   "metadata": {},
   "outputs": [
    {
     "name": "stdout",
     "output_type": "stream",
     "text": [
      "Simulation complete. 25920 records saved to CSV.\n"
     ]
    }
   ],
   "source": [
    "traffic_data = simulate_network_traffic()"
   ]
  },
  {
   "cell_type": "code",
   "execution_count": null,
   "id": "dc4a32dd-3b04-4f54-9d18-527b74b5f390",
   "metadata": {},
   "outputs": [],
   "source": []
  },
  {
   "cell_type": "code",
   "execution_count": null,
   "id": "89453e9f-5a55-41f4-a32e-69b81930d54a",
   "metadata": {},
   "outputs": [],
   "source": []
  }
 ],
 "metadata": {
  "kernelspec": {
   "display_name": "Python 3 (ipykernel)",
   "language": "python",
   "name": "python3"
  },
  "language_info": {
   "codemirror_mode": {
    "name": "ipython",
    "version": 3
   },
   "file_extension": ".py",
   "mimetype": "text/x-python",
   "name": "python",
   "nbconvert_exporter": "python",
   "pygments_lexer": "ipython3",
   "version": "3.11.9"
  }
 },
 "nbformat": 4,
 "nbformat_minor": 5
}
